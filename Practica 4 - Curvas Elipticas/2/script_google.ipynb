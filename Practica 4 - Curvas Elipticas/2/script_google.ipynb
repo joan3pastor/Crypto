{
 "cells": [
  {
   "cell_type": "markdown",
   "metadata": {},
   "source": [
    "# Conexión Segura www.google.com"
   ]
  },
  {
   "cell_type": "markdown",
   "metadata": {},
   "source": [
    "# Parametros de curva: NIST P-256"
   ]
  },
  {
   "cell_type": "code",
   "execution_count": 2,
   "metadata": {},
   "outputs": [],
   "source": [
    "# CURVA NIST P-256: FIPS 186-4 DSS http://nvlpubs.nist.gov/nistpubs/FIPS/NIST.FIPS.186-4.pdf\n",
    "p = 115792089210356248762697446949407573530086143415290314195533631308867097853951\n",
    "n = 115792089210356248762697446949407573529996955224135760342422259061068512044369\n",
    "a = -3\n",
    "b = 0x5ac635d8aa3a93e7b3ebbd55769886bc651d06b0cc53b0f63bce3c3e27d2604b\n",
    "Gx = 0x6b17d1f2e12c4247f8bce6e563a440f277037d812deb33a0f4a13945d898c296\n",
    "Gy = 0x4fe342e2fe1a7f9b8ee7eb4a7c0f9e162bce33576b315ececbb6406837bf51f5\n",
    "\n",
    "E = EllipticCurve(Zmod(p),[a,b])"
   ]
  },
  {
   "cell_type": "markdown",
   "metadata": {},
   "source": [
    "# Preguntas"
   ]
  },
  {
   "cell_type": "markdown",
   "metadata": {},
   "source": [
    "# (b) "
   ]
  },
  {
   "cell_type": "code",
   "execution_count": 2,
   "metadata": {},
   "outputs": [
    {
     "name": "stdout",
     "output_type": "stream",
     "text": [
      "(b) El orden de la curva NIST P-256 es primo.\n"
     ]
    }
   ],
   "source": [
    "isprime = is_prime(E.cardinality())\n",
    "if (isprime):\n",
    "    print('(b) El orden de la curva NIST P-256 es primo.')\n",
    "else:\n",
    "    print('(b) El orden de la curva NIST P-256 NO es primo.')"
   ]
  },
  {
   "cell_type": "markdown",
   "metadata": {},
   "source": [
    "# (c)"
   ]
  },
  {
   "cell_type": "code",
   "execution_count": 3,
   "metadata": {},
   "outputs": [
    {
     "name": "stdout",
     "output_type": "stream",
     "text": [
      "(c) La clave pública P es un punto de la curva NIST P-256.\n"
     ]
    }
   ],
   "source": [
    "CP = 0x04ada5bde25e070009b34c8aa254c4351283836765fe57b8df86c9185154f0f3f417ca532638fff19a4a96d951e9edb18d2724264903a4e0734ba1a38467459133\n",
    "Px = 0xada5bde25e070009b34c8aa254c4351283836765fe57b8df86c9185154f0f3f4 # bits 2-66\n",
    "Py = 0x17ca532638fff19a4a96d951e9edb18d2724264903a4e0734ba1a38467459133 # bits 67-129\n",
    "P = E([Px,Py])\n",
    "\n",
    "PInCurve = P in E\n",
    "if (PInCurve):\n",
    "    print('(c) La clave pública P es un punto de la curva NIST P-256.')\n",
    "else:\n",
    "    print('(c) La clave pública P NO es un punto de la curva NIST P-256.')"
   ]
  },
  {
   "cell_type": "markdown",
   "metadata": {},
   "source": [
    "# (d)"
   ]
  },
  {
   "cell_type": "code",
   "execution_count": 4,
   "metadata": {},
   "outputs": [
    {
     "name": "stdout",
     "output_type": "stream",
     "text": [
      "(d) Orden del punto P = 115792089210356248762697446949407573529996955224135760342422259061068512044369\n"
     ]
    }
   ],
   "source": [
    "print('(d) Orden del punto P = ' + str(P.order()))"
   ]
  },
  {
   "cell_type": "markdown",
   "metadata": {},
   "source": [
    "# (e)"
   ]
  },
  {
   "cell_type": "code",
   "execution_count": 5,
   "metadata": {},
   "outputs": [
    {
     "name": "stdout",
     "output_type": "stream",
     "text": [
      "(e) La firma es correcta\n"
     ]
    }
   ],
   "source": [
    "import hashlib\n",
    "\n",
    "# Signature Algorithm: ecdsa_secp256r1_sha256\n",
    "\n",
    "signature = 0x304502200aea8c6633a72e020dd8047d11d55a166cf2400f2279e75217ba82700c7422b90221009b9ea8a9fb141dd46908d4a003861ab9aee435c78b2c94b9721c1e0879e74c5c\n",
    "f1 = 0xaea8c6633a72e020dd8047d11d55a166cf2400f2279e75217ba82700c7422b9\n",
    "f2 = 0x9b9ea8a9fb141dd46908d4a003861ab9aee435c78b2c94b9721c1e0879e74c5c\n",
    "\n",
    "m = 'e8a2db54b7e5b9c8f4ac8bc385b6f6d5d4478c2ee98f14b98139ace382877291' # client random\n",
    "m += '5e03acff6295b2d4f848b9d38da2284fa3fcf9bf81499dc8444f574e47524401' # server random\n",
    "m += '03' # curve type\n",
    "m += '001d' # curve name\n",
    "m += '20' # PK length\n",
    "m += 'e91cc3a07f18813bad1a850e205065cfa28cce9593aec31cdc8d17c6a9070504' # PK\n",
    "\n",
    "hashm = hashlib.sha256()\n",
    "hashm.update(bytes(bytearray.fromhex(m)))\n",
    "h = int(hashm.hexdigest()[:64], 16)\n",
    "\n",
    "G = E([Gx,Gy])\n",
    "\n",
    "f2inv = mod(f2**-1, n)\n",
    "w1 = mod(h*f2inv, n)\n",
    "w2 = mod(f1*f2inv, n)\n",
    "point = Integer(w1)*G + Integer(w2)*P\n",
    "v = mod(point[0], n)\n",
    "\n",
    "if (v == f1):\n",
    "    print('(e) La firma es correcta')\n",
    "else:\n",
    "    print('(e) La firma NO es correcta')"
   ]
  }
 ],
 "metadata": {
  "kernelspec": {
   "display_name": "SageMath 8.9",
   "language": "sage",
   "name": "sagemath"
  },
  "language_info": {
   "codemirror_mode": {
    "name": "ipython",
    "version": 2
   },
   "file_extension": ".py",
   "mimetype": "text/x-python",
   "name": "python",
   "nbconvert_exporter": "python",
   "pygments_lexer": "ipython2",
   "version": "2.7.15"
  }
 },
 "nbformat": 4,
 "nbformat_minor": 2
}
