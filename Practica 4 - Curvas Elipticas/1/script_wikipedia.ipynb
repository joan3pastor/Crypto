{
 "cells": [
  {
   "cell_type": "markdown",
   "metadata": {},
   "source": [
    "# Conexión Segura www.wikipedia.org"
   ]
  },
  {
   "cell_type": "markdown",
   "metadata": {},
   "source": [
    "# Parametros de curva: NIST P-256"
   ]
  },
  {
   "cell_type": "code",
   "execution_count": 31,
   "metadata": {},
   "outputs": [],
   "source": [
    "# CURVA NIST P-256: FIPS 186-4 DSS http://nvlpubs.nist.gov/nistpubs/FIPS/NIST.FIPS.186-4.pdf\n",
    "p = 115792089210356248762697446949407573530086143415290314195533631308867097853951\n",
    "n = 115792089210356248762697446949407573529996955224135760342422259061068512044369\n",
    "a = -3\n",
    "b = 0x5ac635d8aa3a93e7b3ebbd55769886bc651d06b0cc53b0f63bce3c3e27d2604b\n",
    "Gx = 0x6b17d1f2e12c4247f8bce6e563a440f277037d812deb33a0f4a13945d898c296\n",
    "Gy = 0x4fe342e2fe1a7f9b8ee7eb4a7c0f9e162bce33576b315ececbb6406837bf51f5\n",
    "\n",
    "E = EllipticCurve(Zmod(p),[a,b])"
   ]
  },
  {
   "cell_type": "markdown",
   "metadata": {},
   "source": [
    "# Preguntas"
   ]
  },
  {
   "cell_type": "markdown",
   "metadata": {},
   "source": [
    "# (b) "
   ]
  },
  {
   "cell_type": "code",
   "execution_count": 2,
   "metadata": {},
   "outputs": [
    {
     "name": "stdout",
     "output_type": "stream",
     "text": [
      "(b) El orden de la curva NIST P-256 es primo.\n"
     ]
    }
   ],
   "source": [
    "isprime = is_prime(E.cardinality())\n",
    "if (isprime):\n",
    "    print('(b) El orden de la curva NIST P-256 es primo.')\n",
    "else:\n",
    "    print('(b) El orden de la curva NIST P-256 NO es primo.')"
   ]
  },
  {
   "cell_type": "markdown",
   "metadata": {},
   "source": [
    "# (c)"
   ]
  },
  {
   "cell_type": "code",
   "execution_count": 3,
   "metadata": {},
   "outputs": [
    {
     "name": "stdout",
     "output_type": "stream",
     "text": [
      "(c) La clave pública P es un punto de la curva NIST P-256.\n"
     ]
    }
   ],
   "source": [
    "CP = 0x040b05a82df4d7c04759a45fd4cc6663de5a9e2fbf066ac6aeacfc51ff966fa16e6b6129dd03c4bdd9646d6df925594bd4f59c91503e2db1772cfbb5fbce2cff28\n",
    "Px = 0x0b05a82df4d7c04759a45fd4cc6663de5a9e2fbf066ac6aeacfc51ff966fa16e # bits 2-66\n",
    "Py = 0x6b6129dd03c4bdd9646d6df925594bd4f59c91503e2db1772cfbb5fbce2cff28 # bits 67-129\n",
    "P = E([Px,Py])\n",
    "\n",
    "PInCurve = P in E\n",
    "if (PInCurve):\n",
    "    print('(c) La clave pública P es un punto de la curva NIST P-256.')\n",
    "else:\n",
    "    print('(c) La clave pública P NO es un punto de la curva NIST P-256.')"
   ]
  },
  {
   "cell_type": "markdown",
   "metadata": {},
   "source": [
    "# (d)"
   ]
  },
  {
   "cell_type": "code",
   "execution_count": 4,
   "metadata": {},
   "outputs": [
    {
     "name": "stdout",
     "output_type": "stream",
     "text": [
      "(d) Orden del punto P = 115792089210356248762697446949407573529996955224135760342422259061068512044369\n"
     ]
    }
   ],
   "source": [
    "print('(d) Orden del punto P = ' + str(P.order()))"
   ]
  },
  {
   "cell_type": "markdown",
   "metadata": {},
   "source": [
    "# (e)"
   ]
  },
  {
   "cell_type": "code",
   "execution_count": 29,
   "metadata": {},
   "outputs": [
    {
     "name": "stdout",
     "output_type": "stream",
     "text": [
      "(e) La firma es correcta\n"
     ]
    }
   ],
   "source": [
    "import hashlib\n",
    "\n",
    "# Signature Algorithm: ecdsa_secp384r1_sha384\n",
    "\n",
    "signature = 0x304502202931d5aefb3bfda158515dbef88e47c7c3bb2a1975cdfc4b057b6977f041c62f022100cbe68f406071e2c4398e6a86a438f2778c7c371a6ddd08494dacb13cf2f5e13c\n",
    "f1 = 0x2931d5aefb3bfda158515dbef88e47c7c3bb2a1975cdfc4b057b6977f041c62f\n",
    "f2 = 0xcbe68f406071e2c4398e6a86a438f2778c7c371a6ddd08494dacb13cf2f5e13c\n",
    "\n",
    "m = 'a7a193c19d5e7fb7c1c1f9c5aa6d6b7283dbe7ce4ff21bf4e3863a4869ddf38f' # client random\n",
    "m += 'ef2b4d2676db0633f26f050f53c7f4d5189dd14c57af445f14138d26cfefd7a0' # server random\n",
    "m += '03' # curve type\n",
    "m += '001d' # curve name\n",
    "m += '20' # PK length\n",
    "m += '906ab55f84e1bd6562bd0508f5fb6552ee7b377fa449e8b090b714bfa0ea903a' # PK\n",
    "\n",
    "hashm = hashlib.sha384()\n",
    "hashm.update(bytes(bytearray.fromhex(m)))\n",
    "h = int(hashm.hexdigest()[:64], 16)\n",
    "\n",
    "G = E([Gx,Gy])\n",
    "\n",
    "f2inv = mod(f2**-1, n)\n",
    "w1 = mod(h*f2inv, n)\n",
    "w2 = mod(f1*f2inv, n)\n",
    "point = Integer(w1)*G + Integer(w2)*P\n",
    "v = mod(point[0], n)\n",
    "\n",
    "if (v == f1):\n",
    "    print('(e) La firma es correcta')\n",
    "else:\n",
    "    print('(e) La firma NO es correcta')\n",
    "    "
   ]
  }
 ],
 "metadata": {
  "kernelspec": {
   "display_name": "SageMath 8.9",
   "language": "sage",
   "name": "sagemath"
  },
  "language_info": {
   "codemirror_mode": {
    "name": "ipython",
    "version": 2
   },
   "file_extension": ".py",
   "mimetype": "text/x-python",
   "name": "python",
   "nbconvert_exporter": "python",
   "pygments_lexer": "ipython2",
   "version": "2.7.15"
  }
 },
 "nbformat": 4,
 "nbformat_minor": 2
}
